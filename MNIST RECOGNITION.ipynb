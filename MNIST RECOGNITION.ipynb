{
 "cells": [
  {
   "cell_type": "code",
   "execution_count": 1,
   "metadata": {},
   "outputs": [
    {
     "name": "stderr",
     "output_type": "stream",
     "text": [
      "Using TensorFlow backend.\n",
      "D:\\Logiciel\\Progra\\Anaconda\\lib\\site-packages\\tensorflow\\python\\framework\\dtypes.py:523: FutureWarning: Passing (type, 1) or '1type' as a synonym of type is deprecated; in a future version of numpy, it will be understood as (type, (1,)) / '(1,)type'.\n",
      "  _np_qint8 = np.dtype([(\"qint8\", np.int8, 1)])\n",
      "D:\\Logiciel\\Progra\\Anaconda\\lib\\site-packages\\tensorflow\\python\\framework\\dtypes.py:524: FutureWarning: Passing (type, 1) or '1type' as a synonym of type is deprecated; in a future version of numpy, it will be understood as (type, (1,)) / '(1,)type'.\n",
      "  _np_quint8 = np.dtype([(\"quint8\", np.uint8, 1)])\n",
      "D:\\Logiciel\\Progra\\Anaconda\\lib\\site-packages\\tensorflow\\python\\framework\\dtypes.py:525: FutureWarning: Passing (type, 1) or '1type' as a synonym of type is deprecated; in a future version of numpy, it will be understood as (type, (1,)) / '(1,)type'.\n",
      "  _np_qint16 = np.dtype([(\"qint16\", np.int16, 1)])\n",
      "D:\\Logiciel\\Progra\\Anaconda\\lib\\site-packages\\tensorflow\\python\\framework\\dtypes.py:526: FutureWarning: Passing (type, 1) or '1type' as a synonym of type is deprecated; in a future version of numpy, it will be understood as (type, (1,)) / '(1,)type'.\n",
      "  _np_quint16 = np.dtype([(\"quint16\", np.uint16, 1)])\n",
      "D:\\Logiciel\\Progra\\Anaconda\\lib\\site-packages\\tensorflow\\python\\framework\\dtypes.py:527: FutureWarning: Passing (type, 1) or '1type' as a synonym of type is deprecated; in a future version of numpy, it will be understood as (type, (1,)) / '(1,)type'.\n",
      "  _np_qint32 = np.dtype([(\"qint32\", np.int32, 1)])\n",
      "D:\\Logiciel\\Progra\\Anaconda\\lib\\site-packages\\tensorflow\\python\\framework\\dtypes.py:532: FutureWarning: Passing (type, 1) or '1type' as a synonym of type is deprecated; in a future version of numpy, it will be understood as (type, (1,)) / '(1,)type'.\n",
      "  np_resource = np.dtype([(\"resource\", np.ubyte, 1)])\n"
     ]
    }
   ],
   "source": [
    "# Data Vizualisation\n",
    "import matplotlib.pyplot as plt\n",
    "import seaborn as sns\n",
    "\n",
    "# To handke the data - utils - \n",
    "import time\n",
    "import numpy as np\n",
    "import pandas as pd \n",
    "from keras.utils import np_utils\n",
    "from sklearn.model_selection import train_test_split\n",
    "import random\n",
    "\n",
    "# Model construction\n",
    "# from keras.datasets import mnist # Data set\n",
    "from keras.models import Sequential\n",
    "from keras.layers import Dense, Flatten, Dropout\n",
    "from keras.layers.convolutional import Conv2D, MaxPooling2D\n",
    "from keras.optimizers import RMSprop\n",
    "from keras.callbacks import ReduceLROnPlateau\n",
    "from keras.preprocessing.image import ImageDataGenerator # Create more images using the dataset\n",
    "\n",
    "# Variable\n",
    "train = \"./data/train.csv\"\n",
    "test = \"./data/test.csv\"\n",
    "submission = \"./data/sample_submission.csv\""
   ]
  },
  {
   "cell_type": "code",
   "execution_count": 2,
   "metadata": {},
   "outputs": [],
   "source": [
    "def showImage(img, format) :\n",
    "    if (format==\"784\") :\n",
    "        img = img.reshape(28,28)\n",
    "    else :\n",
    "        pass\n",
    "    plt.imshow(img, cmap='Greys_r')\n",
    "    plt.title(\"My Image\")\n",
    "    plt.show()\n",
    "    \n",
    "def get_convolutionnal_model(batch_size, input_shape, num_classes) :\n",
    "    optimizer = RMSprop(lr=0.001, rho=0.9, epsilon=1e-08, decay=0.0)\n",
    "    model = Sequential()\n",
    "    model.add(Conv2D(32, (4, 4), input_shape=input_shape, activation='relu'))\n",
    "    model.add(Conv2D(32, (4, 4), activation='relu'))\n",
    "    model.add(MaxPooling2D(pool_size=(2, 2)))\n",
    "    model.add(Dropout(0.25))\n",
    "    model.add(Conv2D(64, (3, 3), activation='relu'))\n",
    "    model.add(Conv2D(64, (3, 3), activation='relu'))\n",
    "    model.add(MaxPooling2D(pool_size=(2, 2)))\n",
    "    model.add(Dropout(0.25))\n",
    "    model.add(Flatten())\n",
    "    model.add(Dense(256, activation='relu'))    \n",
    "    model.add(Dropout(0.25))\n",
    "    model.add(Dense(128, activation='relu'))  \n",
    "    model.add(Dense(num_classes, activation='softmax'))\n",
    "    model.compile(loss='categorical_crossentropy', optimizer=optimizer, metrics=['accuracy'])\n",
    "    return model, optimizer\n"
   ]
  },
  {
   "cell_type": "code",
   "execution_count": 4,
   "metadata": {},
   "outputs": [],
   "source": [
    "df_train = pd.read_csv(train)\n",
    "df_test = pd.read_csv(test)\n",
    "df_submission = pd.read_csv(submission)"
   ]
  },
  {
   "cell_type": "code",
   "execution_count": 5,
   "metadata": {},
   "outputs": [
    {
     "data": {
      "text/html": [
       "<div>\n",
       "<style scoped>\n",
       "    .dataframe tbody tr th:only-of-type {\n",
       "        vertical-align: middle;\n",
       "    }\n",
       "\n",
       "    .dataframe tbody tr th {\n",
       "        vertical-align: top;\n",
       "    }\n",
       "\n",
       "    .dataframe thead th {\n",
       "        text-align: right;\n",
       "    }\n",
       "</style>\n",
       "<table border=\"1\" class=\"dataframe\">\n",
       "  <thead>\n",
       "    <tr style=\"text-align: right;\">\n",
       "      <th></th>\n",
       "      <th>pixel0</th>\n",
       "      <th>pixel1</th>\n",
       "      <th>pixel2</th>\n",
       "      <th>pixel3</th>\n",
       "      <th>pixel4</th>\n",
       "      <th>pixel5</th>\n",
       "      <th>pixel6</th>\n",
       "      <th>pixel7</th>\n",
       "      <th>pixel8</th>\n",
       "      <th>pixel9</th>\n",
       "      <th>...</th>\n",
       "      <th>pixel774</th>\n",
       "      <th>pixel775</th>\n",
       "      <th>pixel776</th>\n",
       "      <th>pixel777</th>\n",
       "      <th>pixel778</th>\n",
       "      <th>pixel779</th>\n",
       "      <th>pixel780</th>\n",
       "      <th>pixel781</th>\n",
       "      <th>pixel782</th>\n",
       "      <th>pixel783</th>\n",
       "    </tr>\n",
       "  </thead>\n",
       "  <tbody>\n",
       "    <tr>\n",
       "      <th>0</th>\n",
       "      <td>0</td>\n",
       "      <td>0</td>\n",
       "      <td>0</td>\n",
       "      <td>0</td>\n",
       "      <td>0</td>\n",
       "      <td>0</td>\n",
       "      <td>0</td>\n",
       "      <td>0</td>\n",
       "      <td>0</td>\n",
       "      <td>0</td>\n",
       "      <td>...</td>\n",
       "      <td>0</td>\n",
       "      <td>0</td>\n",
       "      <td>0</td>\n",
       "      <td>0</td>\n",
       "      <td>0</td>\n",
       "      <td>0</td>\n",
       "      <td>0</td>\n",
       "      <td>0</td>\n",
       "      <td>0</td>\n",
       "      <td>0</td>\n",
       "    </tr>\n",
       "    <tr>\n",
       "      <th>1</th>\n",
       "      <td>0</td>\n",
       "      <td>0</td>\n",
       "      <td>0</td>\n",
       "      <td>0</td>\n",
       "      <td>0</td>\n",
       "      <td>0</td>\n",
       "      <td>0</td>\n",
       "      <td>0</td>\n",
       "      <td>0</td>\n",
       "      <td>0</td>\n",
       "      <td>...</td>\n",
       "      <td>0</td>\n",
       "      <td>0</td>\n",
       "      <td>0</td>\n",
       "      <td>0</td>\n",
       "      <td>0</td>\n",
       "      <td>0</td>\n",
       "      <td>0</td>\n",
       "      <td>0</td>\n",
       "      <td>0</td>\n",
       "      <td>0</td>\n",
       "    </tr>\n",
       "    <tr>\n",
       "      <th>2</th>\n",
       "      <td>0</td>\n",
       "      <td>0</td>\n",
       "      <td>0</td>\n",
       "      <td>0</td>\n",
       "      <td>0</td>\n",
       "      <td>0</td>\n",
       "      <td>0</td>\n",
       "      <td>0</td>\n",
       "      <td>0</td>\n",
       "      <td>0</td>\n",
       "      <td>...</td>\n",
       "      <td>0</td>\n",
       "      <td>0</td>\n",
       "      <td>0</td>\n",
       "      <td>0</td>\n",
       "      <td>0</td>\n",
       "      <td>0</td>\n",
       "      <td>0</td>\n",
       "      <td>0</td>\n",
       "      <td>0</td>\n",
       "      <td>0</td>\n",
       "    </tr>\n",
       "    <tr>\n",
       "      <th>3</th>\n",
       "      <td>0</td>\n",
       "      <td>0</td>\n",
       "      <td>0</td>\n",
       "      <td>0</td>\n",
       "      <td>0</td>\n",
       "      <td>0</td>\n",
       "      <td>0</td>\n",
       "      <td>0</td>\n",
       "      <td>0</td>\n",
       "      <td>0</td>\n",
       "      <td>...</td>\n",
       "      <td>0</td>\n",
       "      <td>0</td>\n",
       "      <td>0</td>\n",
       "      <td>0</td>\n",
       "      <td>0</td>\n",
       "      <td>0</td>\n",
       "      <td>0</td>\n",
       "      <td>0</td>\n",
       "      <td>0</td>\n",
       "      <td>0</td>\n",
       "    </tr>\n",
       "    <tr>\n",
       "      <th>4</th>\n",
       "      <td>0</td>\n",
       "      <td>0</td>\n",
       "      <td>0</td>\n",
       "      <td>0</td>\n",
       "      <td>0</td>\n",
       "      <td>0</td>\n",
       "      <td>0</td>\n",
       "      <td>0</td>\n",
       "      <td>0</td>\n",
       "      <td>0</td>\n",
       "      <td>...</td>\n",
       "      <td>0</td>\n",
       "      <td>0</td>\n",
       "      <td>0</td>\n",
       "      <td>0</td>\n",
       "      <td>0</td>\n",
       "      <td>0</td>\n",
       "      <td>0</td>\n",
       "      <td>0</td>\n",
       "      <td>0</td>\n",
       "      <td>0</td>\n",
       "    </tr>\n",
       "  </tbody>\n",
       "</table>\n",
       "<p>5 rows × 784 columns</p>\n",
       "</div>"
      ],
      "text/plain": [
       "   pixel0  pixel1  pixel2  pixel3  pixel4  pixel5  pixel6  pixel7  pixel8  \\\n",
       "0       0       0       0       0       0       0       0       0       0   \n",
       "1       0       0       0       0       0       0       0       0       0   \n",
       "2       0       0       0       0       0       0       0       0       0   \n",
       "3       0       0       0       0       0       0       0       0       0   \n",
       "4       0       0       0       0       0       0       0       0       0   \n",
       "\n",
       "   pixel9  ...  pixel774  pixel775  pixel776  pixel777  pixel778  pixel779  \\\n",
       "0       0  ...         0         0         0         0         0         0   \n",
       "1       0  ...         0         0         0         0         0         0   \n",
       "2       0  ...         0         0         0         0         0         0   \n",
       "3       0  ...         0         0         0         0         0         0   \n",
       "4       0  ...         0         0         0         0         0         0   \n",
       "\n",
       "   pixel780  pixel781  pixel782  pixel783  \n",
       "0         0         0         0         0  \n",
       "1         0         0         0         0  \n",
       "2         0         0         0         0  \n",
       "3         0         0         0         0  \n",
       "4         0         0         0         0  \n",
       "\n",
       "[5 rows x 784 columns]"
      ]
     },
     "execution_count": 5,
     "metadata": {},
     "output_type": "execute_result"
    }
   ],
   "source": [
    "df_test.head(5)"
   ]
  },
  {
   "cell_type": "code",
   "execution_count": 6,
   "metadata": {},
   "outputs": [
    {
     "name": "stdout",
     "output_type": "stream",
     "text": [
      "Initial Shape X_train : (42000, 784).\n",
      "Final Shape X_train : (42000, 28, 28, 1).\n"
     ]
    }
   ],
   "source": [
    "# (X_train, y_train), (X_test, y_test) = mnist.load_data()\n",
    "y_train = df_train.label\n",
    "X_train = df_train.drop(\"label\", axis=1)\n",
    "n_rows = int(np.sqrt(X_train.shape[1]))\n",
    "n_columns = int(np.sqrt(X_train.shape[1]))\n",
    "n_items_train = X_train.shape[0]\n",
    "n_pixels = n_rows * n_columns\n",
    "input_shape = (n_rows, n_columns, 1)\n",
    "print(\"Initial Shape X_train : {}.\".format(X_train.shape))\n",
    "X_train = X_train.values.reshape(n_items_train, n_rows, n_columns, 1).astype('float32')\n",
    "X_train = X_train/255\n",
    "print(\"Final Shape X_train : {}.\".format(X_train.shape))\n",
    "# showImage(X_train[0], \"784\")"
   ]
  },
  {
   "cell_type": "code",
   "execution_count": 7,
   "metadata": {},
   "outputs": [
    {
     "data": {
      "text/plain": [
       "Text(0.5, 1.0, 'Count of labels in the train set.')"
      ]
     },
     "execution_count": 7,
     "metadata": {},
     "output_type": "execute_result"
    },
    {
     "data": {
      "image/png": "[encoded data removed]",
      "text/plain": [
       "<Figure size 936x360 with 1 Axes>"
      ]
     },
     "metadata": {
      "needs_background": "light"
     },
     "output_type": "display_data"
    }
   ],
   "source": [
    "plt.figure(figsize=(13,5))\n",
    "plt.subplot(121)\n",
    "sns.countplot(x=y_train).set_title(\"Count of labels in the train set.\")"
   ]
  },
  {
   "cell_type": "code",
   "execution_count": 8,
   "metadata": {},
   "outputs": [
    {
     "name": "stdout",
     "output_type": "stream",
     "text": [
      "Initial shape of y_train : (42000,)\n",
      "There are 10 unique labels.\n",
      "Final shape of y_train : (42000,10)\n"
     ]
    }
   ],
   "source": [
    "y_train_backup = y_train # use to modelize\n",
    "print(\"Initial shape of y_train : ({},)\".format(y_train.shape[0]))\n",
    "y_train = np_utils.to_categorical(y_train)\n",
    "num_class = len(y_train[0])\n",
    "print(\"There are {} unique labels.\".format(num_class))\n",
    "print(\"Final shape of y_train : ({},{})\".format(y_train.shape[0],y_train.shape[1]))"
   ]
  },
  {
   "cell_type": "code",
   "execution_count": 9,
   "metadata": {
    "scrolled": true
   },
   "outputs": [
    {
     "name": "stdout",
     "output_type": "stream",
     "text": [
      "_________________________________________________________________\n",
      "Layer (type)                 Output Shape              Param #   \n",
      "=================================================================\n",
      "conv2d_1 (Conv2D)            (None, 25, 25, 32)        544       \n",
      "_________________________________________________________________\n",
      "conv2d_2 (Conv2D)            (None, 22, 22, 32)        16416     \n",
      "_________________________________________________________________\n",
      "max_pooling2d_1 (MaxPooling2 (None, 11, 11, 32)        0         \n",
      "_________________________________________________________________\n",
      "dropout_1 (Dropout)          (None, 11, 11, 32)        0         \n",
      "_________________________________________________________________\n",
      "conv2d_3 (Conv2D)            (None, 9, 9, 64)          18496     \n",
      "_________________________________________________________________\n",
      "conv2d_4 (Conv2D)            (None, 7, 7, 64)          36928     \n",
      "_________________________________________________________________\n",
      "max_pooling2d_2 (MaxPooling2 (None, 3, 3, 64)          0         \n",
      "_________________________________________________________________\n",
      "dropout_2 (Dropout)          (None, 3, 3, 64)          0         \n",
      "_________________________________________________________________\n",
      "flatten_1 (Flatten)          (None, 576)               0         \n",
      "_________________________________________________________________\n",
      "dense_1 (Dense)              (None, 256)               147712    \n",
      "_________________________________________________________________\n",
      "dropout_3 (Dropout)          (None, 256)               0         \n",
      "_________________________________________________________________\n",
      "dense_2 (Dense)              (None, 128)               32896     \n",
      "_________________________________________________________________\n",
      "dense_3 (Dense)              (None, 10)                1290      \n",
      "=================================================================\n",
      "Total params: 254,282\n",
      "Trainable params: 254,282\n",
      "Non-trainable params: 0\n",
      "_________________________________________________________________\n"
     ]
    }
   ],
   "source": [
    "model, my_optimizer = get_convolutionnal_model(len(X_train), input_shape, num_class)\n",
    "model.summary()"
   ]
  },
  {
   "cell_type": "code",
   "execution_count": 10,
   "metadata": {},
   "outputs": [],
   "source": [
    "# I increase the amount of data to reach a better score. \n",
    "#datagen = ImageDataGenerator(\n",
    "#    featurewise_center=False, # set input mean to 0 over the dataset\n",
    "#    featurewise_std_normalization=False, # set each sample mean to 0\n",
    "#    rotation_range=10, # randomly rotate images in the range (degrees, 0 to 180)\n",
    "#    width_shift_range=0.2, # randomly shift images horizontally (fraction of total width)\n",
    "#    height_shift_range=0.2,\n",
    "#    horizontal_flip=True) # randomly flip images - horizontaly\n",
    "\n",
    "datagen = ImageDataGenerator(\n",
    "        featurewise_center=False,  # set input mean to 0 over the dataset\n",
    "        samplewise_center=False,  # set each sample mean to 0\n",
    "        featurewise_std_normalization=False,  # divide inputs by std of the dataset\n",
    "        samplewise_std_normalization=False,  # divide each input by its std\n",
    "        zca_whitening=False,  # apply ZCA whitening\n",
    "        rotation_range=10,  # randomly rotate images in the range (degrees, 0 to 180)\n",
    "        zoom_range = 0.1, # Randomly zoom image \n",
    "        width_shift_range=0.1,  # randomly shift images horizontally (fraction of total width)\n",
    "        height_shift_range=0.1,  # randomly shift images vertically (fraction of total height)\n",
    "        horizontal_flip=False,  # randomly flip images\n",
    "        vertical_flip=False)  # randomly flip images\n",
    "\n",
    "datagen.fit(X_train)\n",
    "\n",
    "learning_rate_reduction = ReduceLROnPlateau(monitor='val_acc', \n",
    "                                            patience=3, \n",
    "                                            verbose=1, \n",
    "                                            factor=0.5, \n",
    "                                            min_lr=0.00001)"
   ]
  },
  {
   "cell_type": "code",
   "execution_count": 12,
   "metadata": {},
   "outputs": [
    {
     "name": "stdout",
     "output_type": "stream",
     "text": [
      "Epoch 1/10\n",
      "1134/1134 [==============================] - 202s 178ms/step - loss: 0.1112 - acc: 0.9673 - val_loss: 0.0821 - val_acc: 0.9778\n",
      "Epoch 2/10\n",
      "1134/1134 [==============================] - 209s 184ms/step - loss: 0.1012 - acc: 0.9719 - val_loss: 0.0765 - val_acc: 0.9735\n",
      "Epoch 3/10\n",
      "1134/1134 [==============================] - 240s 212ms/step - loss: 0.1038 - acc: 0.9719 - val_loss: 0.0755 - val_acc: 0.9794\n",
      "Epoch 4/10\n",
      "1134/1134 [==============================] - 202s 178ms/step - loss: 0.1089 - acc: 0.9715 - val_loss: 0.1089 - val_acc: 0.9772\n",
      "Epoch 5/10\n",
      "1134/1134 [==============================] - 194s 171ms/step - loss: 0.1086 - acc: 0.9726 - val_loss: 0.0788 - val_acc: 0.9815\n",
      "Epoch 6/10\n",
      "1134/1134 [==============================] - 193s 171ms/step - loss: 0.1126 - acc: 0.9726 - val_loss: 0.0570 - val_acc: 0.9815\n",
      "Epoch 7/10\n",
      "1134/1134 [==============================] - 172s 152ms/step - loss: 0.1177 - acc: 0.9728 - val_loss: 0.0936 - val_acc: 0.9772\n",
      "Epoch 8/10\n",
      "1134/1134 [==============================] - 164s 145ms/step - loss: 0.1226 - acc: 0.9720 - val_loss: 0.0999 - val_acc: 0.9767\n",
      "\n",
      "Epoch 00008: ReduceLROnPlateau reducing learning rate to 0.0005000000237487257.\n",
      "Epoch 9/10\n",
      "1134/1134 [==============================] - 160s 141ms/step - loss: 0.0860 - acc: 0.9787 - val_loss: 0.0667 - val_acc: 0.9815\n",
      "Epoch 10/10\n",
      "1134/1134 [==============================] - 160s 141ms/step - loss: 0.0945 - acc: 0.9762 - val_loss: 0.0827 - val_acc: 0.9762\n",
      "It takes 31.624297161897022 minutes to train the model.\n"
     ]
    }
   ],
   "source": [
    "X_train, X_test, y_train, y_test = train_test_split(X_train, y_train, test_size=0.1, random_state=42) \n",
    "X_test, X_eval, y_test, y_eval = train_test_split(X_test, y_test, test_size=0.5, random_state=42) \n",
    "old = time.time()\n",
    "# y_model = model.fit(X_train, y_train, epochs=5, batch_size=5, verbose=1, validation_split=0.1, callbacks=[history]) # First version \n",
    "history = model.fit_generator(datagen.flow(X_train, y_train, batch_size=30), epochs=10, verbose=1, validation_data=datagen.flow(X_test, y_test), callbacks=[learning_rate_reduction])\n",
    "print(\"It takes {} minutes to train the model.\".format((time.time() - old)/60))"
   ]
  },
  {
   "cell_type": "code",
   "execution_count": 13,
   "metadata": {},
   "outputs": [
    {
     "name": "stdout",
     "output_type": "stream",
     "text": [
      "1890/1890 [==============================] - 3s 2ms/step\n",
      "Loss :  4 % / Accuracy :  99 %.\n"
     ]
    }
   ],
   "source": [
    "scores = model.evaluate(X_eval, y_eval)\n",
    "print(\"Loss : \",int(scores[0]*100),\"% / Accuracy : \",int(scores[1]*100),\"%.\")"
   ]
  },
  {
   "cell_type": "code",
   "execution_count": 14,
   "metadata": {},
   "outputs": [
    {
     "data": {
      "text/plain": [
       "<matplotlib.legend.Legend at 0x2630afeb940>"
      ]
     },
     "execution_count": 14,
     "metadata": {},
     "output_type": "execute_result"
    },
    {
     "data": {
      "image/png": "[encoded data removed]",
      "text/plain": [
       "<Figure size 936x360 with 2 Axes>"
      ]
     },
     "metadata": {
      "needs_background": "light"
     },
     "output_type": "display_data"
    }
   ],
   "source": [
    "plt.figure(figsize=(13,5))\n",
    "plt.subplot(121)\n",
    "plt.plot(history.history['loss'])\n",
    "plt.plot(history.history['val_loss']) \n",
    "plt.title('Model loss ')\n",
    "plt.ylabel('loss')\n",
    "plt.xlabel('epoch')\n",
    "plt.legend(['train', 'test'], loc='upper left')\n",
    "plt.subplot(122)\n",
    "plt.plot(history.history['acc'])\n",
    "plt.plot(history.history['val_acc'])\n",
    "plt.title('Model accuracy')\n",
    "plt.ylabel('accuracy')\n",
    "plt.xlabel('epoch')\n",
    "plt.legend(['train', 'test'], loc='upper left')"
   ]
  },
  {
   "cell_type": "code",
   "execution_count": 15,
   "metadata": {},
   "outputs": [
    {
     "name": "stdout",
     "output_type": "stream",
     "text": [
      "Initial shape of the test set : (28000, 784)\n",
      "Final shape of the test set : (28000, 28, 28, 1)\n"
     ]
    }
   ],
   "source": [
    "print(\"Initial shape of the test set : {}\".format(df_test.shape))\n",
    "df_test = df_test.values.reshape(df_test.shape[0], n_rows, n_columns, 1).astype('float32')\n",
    "df_test = df_test/255\n",
    "print(\"Final shape of the test set : {}\".format(df_test.shape))"
   ]
  },
  {
   "cell_type": "code",
   "execution_count": 16,
   "metadata": {},
   "outputs": [],
   "source": [
    "for index, item in enumerate(df_test) :\n",
    "    data_to_predict = item.reshape(1, n_rows, n_columns, 1)\n",
    "    prediction = model.predict(data_to_predict)\n",
    "    p = np.where(prediction[0]==max(prediction[0]))[0][0]\n",
    "    df_submission.loc[df_submission.index[index], \"Label\"] = int(p)"
   ]
  },
  {
   "cell_type": "code",
   "execution_count": null,
   "metadata": {},
   "outputs": [],
   "source": [
    "plt.figure(figsize=(13, 5))\n",
    "plt.subplot(121)\n",
    "ax = sns.kdeplot(y_train_backup, shade=True)\n",
    "ax = sns.kdeplot(df_submission.Label, shade=True)\n",
    "ax.set_title(\"Count of the labels\")\n",
    "ax.legend([\"Train set\", \"My predictions\"])"
   ]
  },
  {
   "cell_type": "code",
   "execution_count": null,
   "metadata": {},
   "outputs": [],
   "source": [
    "df_submission.to_csv(submission, index=False)"
   ]
  },
  {
   "cell_type": "code",
   "execution_count": null,
   "metadata": {},
   "outputs": [
    {
     "name": "stdout",
     "output_type": "stream",
     "text": [
      "File data/my_submission.csv successfully generated.\n",
      "\n"
     ]
    }
   ],
   "source": [
    "def generate_submission_file_based_on_prediction(result, source_file_path=\"data/sample_submission.csv\"):\n",
    "    df = pd.read_csv(\n",
    "        filepath_or_buffer=source_file_path,\n",
    "        sep=\",\",\n",
    "    ).set_index(\"PassengerId\")\n",
    "    print(f\"Entry: {df.shape}.\")\n",
    "    merge_df = pd.merge(\n",
    "        left=df,\n",
    "        right=result,\n",
    "        how=\"left\",\n",
    "        left_index=True,\n",
    "        right_index=True,\n",
    "    )\n",
    "    print(f\"Output: {merge_df.shape}.\")\n",
    "    if df.shape[0] != merge_df.shape[0]:\n",
    "        raise ValueError(f\"Should be same size.\")\n",
    "    merge_df = merge_df[[\"Transported_x\", \"Transported_y\"]]\n",
    "    merge_df = merge_df.reset_index().rename(columns={\"Transported_y\": \"Transported\"}).drop(columns=[\"Transported_x\"])\n",
    "    merge_df.to_csv(\"data/my_submission.csv\", sep=\",\", index=False)\n",
    "    \n",
    "def generate_random_submission(source_file_path=\"data/sample_submission.csv\"):\n",
    "    df = pd.read_csv(\n",
    "        filepath_or_buffer=source_file_path,\n",
    "        sep=\",\",\n",
    "    )\n",
    "    df[\"Label\"] = df[\"Label\"].apply(lambda x: random.choice(list(range(10))))\n",
    "    print(f\"File data/my_submission.csv successfully generated.\\n\")\n",
    "    df.to_csv(\"data/my_submission.csv\", sep=\",\", index=False)\n",
    "    \n",
    "def submit_submission(submission_file=\"data/sample_submission.csv\"):\n",
    "    with open(\"kaggle.json\") as credential:\n",
    "        json_credential = json.loads(credential.read())\n",
    "        os.environ[\"KAGGLE_USERNAME\"] = json_credential[\"username\"]\n",
    "        os.environ[\"KAGGLE_KEY\"] = json_credential[\"key\"]\n",
    "    result = subprocess.check_output(\n",
    "        [\n",
    "            \"kaggle\",\n",
    "            \"competitions\",\n",
    "            \"submit\",\n",
    "            \"digit-recognizer\",\n",
    "            \"-f\",\n",
    "            submission_file,\n",
    "            \"-m\",\n",
    "            f\"{dt.datetime.now().strftime('%Y-%m-%d %H:%M:%S')}: New submission\",\n",
    "        ]\n",
    "    ).decode(\"utf-8\")\n",
    "    print(result)\n",
    "\n",
    "def get_latest_score(team_id=\"10059555\"):\n",
    "    with open(\"kaggle.json\") as credential:\n",
    "        json_credential = json.loads(credential.read())\n",
    "        os.environ[\"KAGGLE_USERNAME\"] = json_credential[\"username\"]\n",
    "        os.environ[\"KAGGLE_KEY\"] = json_credential[\"key\"]\n",
    "        os.environ[\"KAGGLE_TEAM_ID\"] = team_id\n",
    "    result = subprocess.check_output([\"kaggle\", \"competitions\", \"submissions\", \"digit-recognizer\"]).decode(\"utf-8\")\n",
    "    print(result)\n",
    "\n",
    "generate_random_submission()\n",
    "submit_submission()\n",
    "get_latest_score()"
   ]
  },
  {
   "cell_type": "code",
   "execution_count": null,
   "metadata": {},
   "outputs": [],
   "source": []
  }
 ],
 "metadata": {
  "kernelspec": {
   "display_name": "Python 3",
   "language": "python",
   "name": "python3"
  },
  "language_info": {
   "codemirror_mode": {
    "name": "ipython",
    "version": 3
   },
   "file_extension": ".py",
   "mimetype": "text/x-python",
   "name": "python",
   "nbconvert_exporter": "python",
   "pygments_lexer": "ipython3",
   "version": "3.6.8"
  }
 },
 "nbformat": 4,
 "nbformat_minor": 2
}
